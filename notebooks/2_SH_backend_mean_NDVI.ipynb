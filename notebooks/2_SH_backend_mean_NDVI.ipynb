{
 "cells": [
  {
   "cell_type": "markdown",
   "id": "383b58e6",
   "metadata": {},
   "source": [
    "<img src=\"https://avatars.githubusercontent.com/u/74911464?s=200&v=4\"\n",
    "     alt=\"OpenEO Platform logo\"\n",
    "     style=\"float: left; margin-right: 10px;\" />\n",
    "# OpenEO Platform - SH openEO backend NDVI use case\n",
    "### Calculate mean NDVI over time (as synchronous and batch job) and export the result (locally, via signed URL)"
   ]
  },
  {
   "cell_type": "code",
   "execution_count": null,
   "id": "03f0e5f0",
   "metadata": {},
   "outputs": [],
   "source": [
    "import openeo\n",
    "import rioxarray"
   ]
  },
  {
   "cell_type": "markdown",
   "id": "55a82606",
   "metadata": {},
   "source": [
    "**1. Open the connect to openEO Platform (development backend) and authenticate**  \n",
    "- establish connection to the openEO Platform back-end\n",
    "- connection object is your central gateway to load data"
   ]
  },
  {
   "cell_type": "code",
   "execution_count": null,
   "id": "d94e43b0",
   "metadata": {},
   "outputs": [],
   "source": [
    "from openeo.rest.auth.config import RefreshTokenStore\n",
    "RefreshTokenStore().remove()"
   ]
  },
  {
   "cell_type": "code",
   "execution_count": null,
   "id": "78ee6bcb",
   "metadata": {},
   "outputs": [],
   "source": [
    "# Connect to openEO Platform  back-end (https://openeo.cloud) which has SH production backend implemented\n",
    "# https://openeo.sentinel-hub.com/production/\n",
    "connection = openeo.connect(\"https://openeo.sentinel-hub.com/production/\")\n",
    "\n",
    "# Authenticate via EGI\n",
    "connection.authenticate_oidc()"
   ]
  },
  {
   "cell_type": "markdown",
   "id": "7c23796c",
   "metadata": {},
   "source": [
    "**2. Define spatial and temporal extend, bands and specify backend to be used**"
   ]
  },
  {
   "cell_type": "code",
   "execution_count": null,
   "id": "ac53c0bf",
   "metadata": {},
   "outputs": [],
   "source": [
    "# Load data cube from Sentinel2_L2A collection for a 3-weeks cloud free priod in July 2021 north of Ljubljana\n",
    "# (5 aquisitions)\n",
    "cube = connection.load_collection(\n",
    "    \"SENTINEL2_L2A_SENTINELHUB\",\n",
    "    spatial_extent={\"west\": 14.583040689005495, \"south\": 46.10348118219517, \"east\": 14.599965321685639, \n",
    "                    \"north\": 46.11226598409823},\n",
    "    temporal_extent=[\"2021-07-09\", \"2022-07-30\"],\n",
    "    bands=[\"B04\", \"B08\"], properties={\"provider:backend\":lambda v: v ==\"sentinelhub\"}\n",
    ")\n",
    "\n",
    "# The \"provider:backend\" can be used for collections that are supported by multiple backends to \n",
    "# specify on which backend the process graph should be run. For SENTINEL2_L2A_SENTINELHUB available options are \"Vito\"\n",
    "# and \"sentinelhub\""
   ]
  },
  {
   "cell_type": "markdown",
   "id": "4d74fda2",
   "metadata": {},
   "source": [
    "**3. Calculate the mean over the temporal extend and afterwards calculate the NDVI**"
   ]
  },
  {
   "cell_type": "code",
   "execution_count": null,
   "id": "8f805934",
   "metadata": {},
   "outputs": [],
   "source": [
    "# Calculate mean of B04 and B08\n",
    "cube_mean = cube.reduce_dimension(dimension=\"t\", reducer=\"mean\")"
   ]
  },
  {
   "cell_type": "code",
   "execution_count": null,
   "id": "263d0860",
   "metadata": {},
   "outputs": [],
   "source": [
    "# Calculate NDVI\n",
    "cube_mean_ndvi_all_bands = cube_mean.ndvi(nir = \"B08\", red = \"B04\", target_band = \"NDVI\")"
   ]
  },
  {
   "cell_type": "code",
   "execution_count": null,
   "id": "1afc4ef2",
   "metadata": {},
   "outputs": [],
   "source": [
    "# Filter bands\n",
    "cube_mean_ndvi = cube_mean_ndvi_all_bands.filter_bands([\"NDVI\"])"
   ]
  },
  {
   "cell_type": "markdown",
   "id": "d3744178",
   "metadata": {},
   "source": [
    "## Synchronous processing\n",
    "**4. Download data synchronously**"
   ]
  },
  {
   "cell_type": "code",
   "execution_count": null,
   "id": "2b818cbc",
   "metadata": {},
   "outputs": [],
   "source": [
    "# depending on the backend load this synchronous call sometimes times out\n",
    "# as the result is part of the repository you can continue with the next cell \n",
    "# and visualize the result and run the job as batch job\n",
    "cube_mean_ndvi.download(\"cube_mean_ndvi.tiff\")"
   ]
  },
  {
   "cell_type": "markdown",
   "id": "c05ffecf",
   "metadata": {},
   "source": [
    "**5. Plot NDVI data on map**"
   ]
  },
  {
   "cell_type": "code",
   "execution_count": null,
   "id": "8565ef40",
   "metadata": {},
   "outputs": [],
   "source": [
    "# Open into an xarray.DataArray\n",
    "geotiff_da = rioxarray.open_rasterio(\"./cube_mean_ndvi.tiff\")\n",
    "\n",
    "# Covert our xarray.DataArray into a xarray.Dataset\n",
    "geotiff_ds = geotiff_da.to_dataset('band').rename({1: 'NDVI'})"
   ]
  },
  {
   "cell_type": "code",
   "execution_count": null,
   "id": "72a72aa5",
   "metadata": {},
   "outputs": [],
   "source": [
    "# plot mean NDVI data on map\n",
    "geotiff_ds.NDVI.plot()"
   ]
  },
  {
   "cell_type": "markdown",
   "id": "c26333dd",
   "metadata": {},
   "source": [
    "## Batch processing\n",
    "**4. Save results as Geotiff**"
   ]
  },
  {
   "cell_type": "code",
   "execution_count": null,
   "id": "6239c58b",
   "metadata": {},
   "outputs": [],
   "source": [
    "# Save results\n",
    "cube_mean_ndvi_tiff = cube_mean_ndvi.save_result(format=\"GTiff\")"
   ]
  },
  {
   "cell_type": "markdown",
   "id": "4f6fdf41",
   "metadata": {},
   "source": [
    "**5. Create a batch job and start it.**\n",
    "\n",
    "More info about batch jobs can be found here:\n",
    "\n",
    "- https://openeo.org/documentation/1.0/glossary.html#data-processing-modes\n",
    "\n",
    "- https://open-eo.github.io/openeo-python-client/batch_jobs.html"
   ]
  },
  {
   "cell_type": "code",
   "execution_count": null,
   "id": "008cfa19",
   "metadata": {},
   "outputs": [],
   "source": [
    "# create the job \n",
    "job = cube_mean_ndvi_tiff.create_job(title = 'Mean_NDVI_Ljubljana_demo')\n",
    "\n",
    "# save job id and print it\n",
    "job_id = job.job_id\n",
    "print(\"Batch job created with id: \",job_id)"
   ]
  },
  {
   "cell_type": "code",
   "execution_count": null,
   "id": "c7000f77",
   "metadata": {},
   "outputs": [],
   "source": [
    "# start the job\n",
    "job.start_job() "
   ]
  },
  {
   "cell_type": "code",
   "execution_count": null,
   "id": "4242b7f3",
   "metadata": {},
   "outputs": [],
   "source": [
    "# output batch job status \n",
    "print(\"Batch job with id: \",job_id, ' is ',job.status())"
   ]
  },
  {
   "cell_type": "code",
   "execution_count": null,
   "id": "0685d7ca",
   "metadata": {},
   "outputs": [],
   "source": [
    "# get job metadata to get signed URL from Assets\n",
    "# for jobs on SH production use 00152be2-2824-49d6-b3c8-0c3bb2f3013c\n",
    "job = connection.job('00152be2-2824-49d6-b3c8-0c3bb2f3013c')\n",
    "job.get_results()"
   ]
  },
  {
   "cell_type": "code",
   "execution_count": null,
   "id": "8abc5b24",
   "metadata": {},
   "outputs": [],
   "source": []
  }
 ],
 "metadata": {
  "kernelspec": {
   "display_name": "Python 3 (ipykernel)",
   "language": "python",
   "name": "python3"
  },
  "language_info": {
   "codemirror_mode": {
    "name": "ipython",
    "version": 3
   },
   "file_extension": ".py",
   "mimetype": "text/x-python",
   "name": "python",
   "nbconvert_exporter": "python",
   "pygments_lexer": "ipython3",
   "version": "3.8.8"
  }
 },
 "nbformat": 4,
 "nbformat_minor": 5
}
