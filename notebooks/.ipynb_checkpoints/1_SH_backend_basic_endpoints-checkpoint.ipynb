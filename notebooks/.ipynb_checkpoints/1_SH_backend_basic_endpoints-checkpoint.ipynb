{
 "cells": [
  {
   "cell_type": "markdown",
   "id": "82e6ac5d",
   "metadata": {},
   "source": [
    "# Sentinel Hub openEO backend endpoints\n",
    "### Call some basic endpoints (/me, /health, /service_types) and show responses"
   ]
  },
  {
   "cell_type": "code",
   "execution_count": 6,
   "id": "0247994e",
   "metadata": {},
   "outputs": [],
   "source": [
    "import openeo\n",
    "import requests\n",
    "import json"
   ]
  },
  {
   "cell_type": "code",
   "execution_count": 2,
   "id": "df9d6e5d",
   "metadata": {},
   "outputs": [
    {
     "name": "stdout",
     "output_type": "stream",
     "text": [
      "To authenticate: visit https://aai.egi.eu/auth/realms/egi/device and enter the user code 'GPBY-DFUV'.\n",
      "Authorized successfully.\n",
      "Authenticated using device code flow.\n"
     ]
    },
    {
     "data": {
      "text/plain": [
       "<Connection to 'https://jjdxlu8vwl.execute-api.eu-central-1.amazonaws.com/production/' with OidcBearerAuth>"
      ]
     },
     "execution_count": 2,
     "metadata": {},
     "output_type": "execute_result"
    }
   ],
   "source": [
    "# Connect to openEO Platform production back-end.\n",
    "connection = openeo.connect(\"https://openeo.sentinel-hub.com/production/\")\n",
    "\n",
    "# Authenticate via EGI\n",
    "connection.authenticate_oidc()"
   ]
  },
  {
   "cell_type": "code",
   "execution_count": 3,
   "id": "2d818a97",
   "metadata": {},
   "outputs": [
    {
     "data": {
      "text/plain": [
       "{'default_plan': 'early-adopter',\n",
       " 'info': {'oidc_userinfo': {'eduperson_assurance': ['https://refeds.org/assurance/IAP/low',\n",
       "    'https://aai.egi.eu/LoA#Low'],\n",
       "   'eduperson_entitlement': ['urn:mace:egi.eu:group:vo.openeo.cloud:role=early_adopter#aai.egi.eu',\n",
       "    'urn:mace:egi.eu:group:vo.openeo.cloud:role=member#aai.egi.eu',\n",
       "    'urn:mace:egi.eu:group:vo.openeo.cloud:role=vm_operator#aai.egi.eu',\n",
       "    'urn:mace:egi.eu:group:vo.openeo.cloud:admins:role=member#aai.egi.eu',\n",
       "    'urn:mace:egi.eu:group:vo.openeo.cloud:admins:role=owner#aai.egi.eu'],\n",
       "   'email': 'daniel.thiex@sinergise.com',\n",
       "   'email_verified': True,\n",
       "   'sub': '32247a1a9d5e9257107c156b41bfc00b5da2a84f419acecfeee51571ba6a81fa@egi.eu',\n",
       "   'voperson_verified_email': ['daniel.thiex@sinergise.com']}},\n",
       " 'user_id': '32247a1a9d5e9257107c156b41bfc00b5da2a84f419acecfeee51571ba6a81fa@egi.eu'}"
      ]
     },
     "execution_count": 3,
     "metadata": {},
     "output_type": "execute_result"
    }
   ],
   "source": [
    "# Basic user account information from the /me endpoint (describe account)\n",
    "connection.describe_account()"
   ]
  },
  {
   "cell_type": "markdown",
   "id": "55026015",
   "metadata": {},
   "source": [
    "# 20 different endpoints implemented\n",
    "\n",
    "- health endpoint: non standard openEO endpoint reporting on the status of the backend\n",
    "- service types: listing available additional services (xyz service)\n",
    "\n",
    "\n",
    "# Other enpdoints worth mentioning\n",
    "\n",
    "- user-defined process graphs\n",
    "  - /listing, /valdidation,\n",
    "- /estimate\n",
    "- /jobs\n",
    "- /results\n"
   ]
  },
  {
   "cell_type": "code",
   "execution_count": 4,
   "id": "134615b9",
   "metadata": {},
   "outputs": [],
   "source": [
    "url ='https://openeo.sentinel-hub.com/production/'\n",
    "headers = {'User-Agent': 'XY', 'Content-type': 'application/json'}\n",
    "\n",
    "# send get requests to backend\n",
    "request_health = requests.get(url + 'health', headers = headers).text\n",
    "request_service_types = requests.get(url + 'service_types', headers = headers).text"
   ]
  },
  {
   "cell_type": "code",
   "execution_count": 7,
   "id": "4638faf9",
   "metadata": {},
   "outputs": [],
   "source": [
    "# Create Python object from JSON string data\n",
    "request_health_py = json.loads(request_health)\n",
    "request_service_types_py = json.loads(request_service_types)"
   ]
  },
  {
   "cell_type": "code",
   "execution_count": 8,
   "id": "fd3ebaf4",
   "metadata": {},
   "outputs": [
    {
     "name": "stdout",
     "output_type": "stream",
     "text": [
      "{\n",
      "   \"status\": \"OK\"\n",
      "}\n"
     ]
    }
   ],
   "source": [
    "# Pretty Print JSON\n",
    "json_formatted_str = json.dumps(request_health_py, indent=3)\n",
    "print(json_formatted_str)"
   ]
  },
  {
   "cell_type": "code",
   "execution_count": 9,
   "id": "772432bd",
   "metadata": {},
   "outputs": [
    {
     "name": "stdout",
     "output_type": "stream",
     "text": [
      "{\n",
      "   \"XYZ\": {\n",
      "      \"configuration\": {\n",
      "         \"tile_size\": {\n",
      "            \"default\": 512,\n",
      "            \"description\": \"Tile size in pixels.\",\n",
      "            \"type\": \"number\"\n",
      "         }\n",
      "      },\n",
      "      \"process_parameters\": [\n",
      "         {\n",
      "            \"description\": \"The lower left corner for coordinate axis 1 of the extent currently shown to the consumer.\",\n",
      "            \"name\": \"spatial_extent_west\",\n",
      "            \"schema\": {\n",
      "               \"type\": \"number\"\n",
      "            }\n",
      "         },\n",
      "         {\n",
      "            \"description\": \"The lower left corner for coordinate axis 2 of the extent currently shown to the consumer.\",\n",
      "            \"name\": \"spatial_extent_south\",\n",
      "            \"schema\": {\n",
      "               \"type\": \"number\"\n",
      "            }\n",
      "         },\n",
      "         {\n",
      "            \"description\": \"The upper right corner for coordinate axis 1 of the extent currently shown to the consumer.\",\n",
      "            \"name\": \"spatial_extent_east\",\n",
      "            \"schema\": {\n",
      "               \"type\": \"number\"\n",
      "            }\n",
      "         },\n",
      "         {\n",
      "            \"description\": \"The upper right corner for coordinate axis 2 of the extent currently shown to the consumer.\",\n",
      "            \"name\": \"spatial_extent_north\",\n",
      "            \"schema\": {\n",
      "               \"type\": \"number\"\n",
      "            }\n",
      "         }\n",
      "      ],\n",
      "      \"title\": \"XYZ tiled web map\"\n",
      "   }\n",
      "}\n"
     ]
    }
   ],
   "source": [
    "# Pretty Print JSON\n",
    "json_formatted_str = json.dumps(request_service_types_py, indent=3)\n",
    "print(json_formatted_str)"
   ]
  }
 ],
 "metadata": {
  "kernelspec": {
   "display_name": "Python 3 (ipykernel)",
   "language": "python",
   "name": "python3"
  },
  "language_info": {
   "codemirror_mode": {
    "name": "ipython",
    "version": 3
   },
   "file_extension": ".py",
   "mimetype": "text/x-python",
   "name": "python",
   "nbconvert_exporter": "python",
   "pygments_lexer": "ipython3",
   "version": "3.8.8"
  }
 },
 "nbformat": 4,
 "nbformat_minor": 5
}
