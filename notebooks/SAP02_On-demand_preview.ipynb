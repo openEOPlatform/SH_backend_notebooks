{
 "cells": [
  {
   "cell_type": "markdown",
   "id": "bb9f7d29",
   "metadata": {},
   "source": [
    "<img src=\"https://avatars.githubusercontent.com/u/74911464?s=200&v=4\"\n",
    "     alt=\"OpenEO Platform logo\"\n",
    "     style=\"float: left; margin-right: 10px;\" />\n",
    "# OpenEO Platform - On-demand preview\n",
    "### Create a simple process graph and show the results as on-demand preview directly in the notebook"
   ]
  },
  {
   "cell_type": "code",
   "execution_count": 1,
   "id": "24cd07a5",
   "metadata": {
    "scrolled": false
   },
   "outputs": [
    {
     "name": "stderr",
     "output_type": "stream",
     "text": [
      "Enabling notebook extension jupyter-leaflet/extension...\n",
      "      - Validating: ok\n"
     ]
    }
   ],
   "source": [
    "# Install the on-demand preview python functions \n",
    "# this is not needed anymore once the python client is updated with that funytionality\n",
    "\n",
    "!pip install git+https://github.com/Ardweaden/openeo-python-client.git@feature/on-demand-datacube-preview -q\n",
    "!jupyter nbextension enable --py --sys-prefix ipyleaflet"
   ]
  },
  {
   "cell_type": "code",
   "execution_count": 2,
   "id": "b387bc52",
   "metadata": {},
   "outputs": [],
   "source": [
    "import openeo"
   ]
  },
  {
   "cell_type": "markdown",
   "id": "d7043973",
   "metadata": {},
   "source": [
    "**1. Open the connect to SH openEO backend and authenticate**  \n",
    "- establish connection to the SH openEO back-end\n",
    "- connection object is your central gateway to load data"
   ]
  },
  {
   "cell_type": "code",
   "execution_count": 3,
   "id": "ac8937be",
   "metadata": {},
   "outputs": [
    {
     "name": "stdout",
     "output_type": "stream",
     "text": [
      "Authenticated using refresh token.\n"
     ]
    },
    {
     "data": {
      "text/plain": [
       "<Connection to 'https://jjdxlu8vwl.execute-api.eu-central-1.amazonaws.com/production/' with OidcBearerAuth>"
      ]
     },
     "execution_count": 3,
     "metadata": {},
     "output_type": "execute_result"
    }
   ],
   "source": [
    "# Connect to SH openEO backend\n",
    "connection = openeo.connect(\"https://openeo.sentinel-hub.com/production/\")\n",
    "\n",
    "# Authenticate via EGI\n",
    "connection.authenticate_oidc()"
   ]
  },
  {
   "cell_type": "markdown",
   "id": "684c5976",
   "metadata": {},
   "source": [
    "**2. Create a datacube that loads and saves Sentinel-2 data**  "
   ]
  },
  {
   "cell_type": "code",
   "execution_count": 4,
   "id": "e0c8eeb8",
   "metadata": {},
   "outputs": [],
   "source": [
    "datacube = connection.load_collection(collection_id=\"SENTINEL2_L2A_SENTINELHUB\", bands=['B04','B03','B02'], spatial_extent={\n",
    "        \"west\": 6.8371137, \"south\": 50.560007,\n",
    "        \"east\": 6.8566699, \"north\": 50.5647147,\n",
    "        \"crs\": 4326\n",
    "    }, temporal_extent=[\"2022-10-08\",\"2022-10-11\"]).linear_scale_range(0,0.4,0,255)\n",
    "datacube = datacube.save_result(\"jpeg\")"
   ]
  },
  {
   "cell_type": "markdown",
   "id": "b131edc2",
   "metadata": {},
   "source": [
    "**3. Call the on-demand preview and display the response on a map**  "
   ]
  },
  {
   "cell_type": "code",
   "execution_count": 5,
   "id": "5f21ad1a",
   "metadata": {
    "scrolled": true
   },
   "outputs": [
    {
     "data": {
      "application/vnd.jupyter.widget-view+json": {
       "model_id": "18bbed1e167d46988421ccf504704285",
       "version_major": 2,
       "version_minor": 0
      },
      "text/plain": [
       "Map(center=[0, 0], controls=(ZoomControl(options=['position', 'zoom_in_text', 'zoom_in_title', 'zoom_out_text'…"
      ]
     },
     "metadata": {},
     "output_type": "display_data"
    },
    {
     "data": {
      "text/plain": [
       "<openeo.rest.datacube.DataCube.preview.<locals>.Preview at 0x16d9693c7c0>"
      ]
     },
     "execution_count": 5,
     "metadata": {},
     "output_type": "execute_result"
    }
   ],
   "source": [
    "### Call the secondary service and display the results on a map (displaying of results may take a couple of seconds)\n",
    "preview = datacube.preview()\n",
    "preview"
   ]
  },
  {
   "cell_type": "code",
   "execution_count": null,
   "id": "6f5c34a7",
   "metadata": {},
   "outputs": [],
   "source": [
    "# Delet the created service once you are done inspecting the results\n",
    "preview.delete_service()"
   ]
  },
  {
   "cell_type": "code",
   "execution_count": null,
   "id": "3cebd1cb",
   "metadata": {},
   "outputs": [],
   "source": []
  }
 ],
 "metadata": {
  "kernelspec": {
   "display_name": "Python 3 (ipykernel)",
   "language": "python",
   "name": "python3"
  },
  "language_info": {
   "codemirror_mode": {
    "name": "ipython",
    "version": 3
   },
   "file_extension": ".py",
   "mimetype": "text/x-python",
   "name": "python",
   "nbconvert_exporter": "python",
   "pygments_lexer": "ipython3",
   "version": "3.8.8"
  }
 },
 "nbformat": 4,
 "nbformat_minor": 5
}
